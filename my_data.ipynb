{
 "cells": [
  {
   "cell_type": "code",
   "execution_count": 9,
   "metadata": {},
   "outputs": [],
   "source": [
    "my_data_list = [\n",
    "    (5, 24),\n",
    "    (6, 22),\n",
    "    (8, 23),\n",
    "    (10, 20),\n",
    "    (11, 18),\n",
    "    (13, 20),\n",
    "    (13, 19),\n",
    "    (13, 19),\n",
    "    (13, 20),\n",
    "    (14, 17),\n",
    "    (14, 19),\n",
    "    (14, 19),\n",
    "    (15, 21),\n",
    "    (15, 20)\n",
    "]"
   ]
  },
  {
   "cell_type": "code",
   "execution_count": 10,
   "metadata": {},
   "outputs": [],
   "source": [
    "import sqlite3"
   ]
  },
  {
   "cell_type": "code",
   "execution_count": 11,
   "metadata": {},
   "outputs": [
    {
     "name": "stdout",
     "output_type": "stream",
     "text": [
      "/Users/kotomi/Unv/Lecture/ds-programming Q4/final/ds-programming_final\n"
     ]
    }
   ],
   "source": [
    "!pwd"
   ]
  },
  {
   "cell_type": "code",
   "execution_count": 12,
   "metadata": {},
   "outputs": [],
   "source": [
    "# DBファイルを保存するためのファイルパス\n",
    "\n",
    "# ローカル（自分のMac）\n",
    "path = '/Users/kotomi/Unv/Lecture/ds-programming Q4/final/ds-programming_final'\n",
    "\n",
    "# DBファイル名\n",
    "db_name = 'my_data.sqlite'\n",
    "\n",
    "# DBに接続する\n",
    "con = sqlite3.connect(path + db_name)\n",
    "\n",
    "# DBへの接続を閉じる\n",
    "con.close()"
   ]
  },
  {
   "cell_type": "markdown",
   "metadata": {},
   "source": [
    "DBを作成"
   ]
  },
  {
   "cell_type": "code",
   "execution_count": 13,
   "metadata": {},
   "outputs": [
    {
     "ename": "OperationalError",
     "evalue": "table scraping already exists",
     "output_type": "error",
     "traceback": [
      "\u001b[0;31m---------------------------------------------------------------------------\u001b[0m",
      "\u001b[0;31mOperationalError\u001b[0m                          Traceback (most recent call last)",
      "Cell \u001b[0;32mIn[13], line 14\u001b[0m\n\u001b[1;32m     11\u001b[0m sql_create_table_scraping \u001b[38;5;241m=\u001b[39m \u001b[38;5;124m'\u001b[39m\u001b[38;5;124mCREATE TABLE scraping(date int, temperature int);\u001b[39m\u001b[38;5;124m'\u001b[39m\n\u001b[1;32m     13\u001b[0m \u001b[38;5;66;03m# 4．SQLを実行する\u001b[39;00m\n\u001b[0;32m---> 14\u001b[0m \u001b[43mcur\u001b[49m\u001b[38;5;241;43m.\u001b[39;49m\u001b[43mexecute\u001b[49m\u001b[43m(\u001b[49m\u001b[43msql_create_table_scraping\u001b[49m\u001b[43m)\u001b[49m\n\u001b[1;32m     16\u001b[0m \u001b[38;5;66;03m# 5．必要があればコミットする（データ変更等があった場合）\u001b[39;00m\n\u001b[1;32m     17\u001b[0m \u001b[38;5;66;03m# 今回は必要なし\u001b[39;00m\n\u001b[1;32m     18\u001b[0m \n\u001b[1;32m     19\u001b[0m \u001b[38;5;66;03m# 6．DBへの接続を閉じる\u001b[39;00m\n\u001b[1;32m     20\u001b[0m con\u001b[38;5;241m.\u001b[39mclose()\n",
      "\u001b[0;31mOperationalError\u001b[0m: table scraping already exists"
     ]
    }
   ],
   "source": [
    "# 1．DBに接続する\n",
    "con = sqlite3.connect(path + db_name)\n",
    "# print(type(con))\n",
    "\n",
    "# 2．SQLを実行するためのオブジェクトを取得\n",
    "cur = con.cursor()\n",
    "\n",
    "# 3．実行したいSQLを用意する\n",
    "# テーブルを作成するSQL\n",
    "# CREATE TABLE テーブル名（カラム名 型，...）;\n",
    "sql_create_table_scraping = 'CREATE TABLE scraping(date int, temperature int);'\n",
    "\n",
    "# 4．SQLを実行する\n",
    "cur.execute(sql_create_table_scraping)\n",
    "\n",
    "# 5．必要があればコミットする（データ変更等があった場合）\n",
    "# 今回は必要なし\n",
    "\n",
    "# 6．DBへの接続を閉じる\n",
    "con.close()"
   ]
  },
  {
   "cell_type": "markdown",
   "metadata": {},
   "source": [
    "DBにデータを挿入"
   ]
  },
  {
   "cell_type": "code",
   "execution_count": 14,
   "metadata": {},
   "outputs": [
    {
     "name": "stdout",
     "output_type": "stream",
     "text": [
      "<class 'sqlite3.Connection'>\n"
     ]
    }
   ],
   "source": [
    "# 1.DBに接続する\n",
    "con = sqlite3.connect(path + db_name)\n",
    "print(type(con))\n",
    "\n",
    "# 2．SQLを実行するためのオブジェクトを取得\n",
    "cur = con.cursor()\n",
    "\n",
    "# 3.SQLを用意\n",
    "# データを挿入するSQL\n",
    "# INSERT INTO テーブル名 VALUES(列に対応したデータをカンマ区切りで);\n",
    "sql_insert_many = \"INSERT INTO scraping VALUES (?, ?);\"\n",
    "\n",
    "# 用意したリスト\n",
    "# my_data_list\n",
    "\n",
    "# 4.SQLを実行\n",
    "cur.executemany(sql_insert_many, my_data_list)\n",
    "\n",
    "# 5.コミット処理(データ操作を反映させる)\n",
    "con.commit()\n",
    "\n",
    "# 6.DBへの接続を閉じる\n",
    "con.close()"
   ]
  },
  {
   "cell_type": "markdown",
   "metadata": {},
   "source": [
    "DB内のデータを参照"
   ]
  },
  {
   "cell_type": "code",
   "execution_count": 15,
   "metadata": {},
   "outputs": [
    {
     "name": "stdout",
     "output_type": "stream",
     "text": [
      "(5, 24)\n",
      "(6, 22)\n",
      "(8, 23)\n",
      "(10, 20)\n",
      "(11, 18)\n",
      "(13, 20)\n",
      "(13, 19)\n",
      "(13, 19)\n",
      "(13, 20)\n",
      "(14, 17)\n",
      "(14, 19)\n",
      "(14, 19)\n",
      "(15, 21)\n",
      "(15, 20)\n"
     ]
    }
   ],
   "source": [
    "# 1．DBに接続する\n",
    "con = sqlite3.connect(path + db_name)\n",
    "\n",
    "# 2．SQLを実行するためのオブジェクトを取得\n",
    "cur = con.cursor()\n",
    "\n",
    "# 3．SQLを用意\n",
    "sql_select = 'SELECT * FROM scraping;'\n",
    "\n",
    "# 4．SQLを実行\n",
    "cur.execute(sql_select)\n",
    "\n",
    "for r in cur:\n",
    "  print(r)\n",
    "\n",
    "# 6．DBへの接続を閉じる\n",
    "con.close()"
   ]
  }
 ],
 "metadata": {
  "kernelspec": {
   "display_name": "Python 3",
   "language": "python",
   "name": "python3"
  },
  "language_info": {
   "codemirror_mode": {
    "name": "ipython",
    "version": 3
   },
   "file_extension": ".py",
   "mimetype": "text/x-python",
   "name": "python",
   "nbconvert_exporter": "python",
   "pygments_lexer": "ipython3",
   "version": "3.9.6"
  }
 },
 "nbformat": 4,
 "nbformat_minor": 2
}
