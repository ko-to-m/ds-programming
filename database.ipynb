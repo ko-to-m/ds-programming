{
 "cells": [
  {
   "cell_type": "code",
   "execution_count": 1,
   "metadata": {},
   "outputs": [],
   "source": [
    "import sqlite3"
   ]
  },
  {
   "cell_type": "code",
   "execution_count": 4,
   "metadata": {},
   "outputs": [
    {
     "name": "stdout",
     "output_type": "stream",
     "text": [
      "/Users/kotomi/Unv/Lecture/ds-programming Q4/final\n"
     ]
    }
   ],
   "source": [
    "!pwd"
   ]
  },
  {
   "cell_type": "code",
   "execution_count": 12,
   "metadata": {},
   "outputs": [],
   "source": [
    "# DBファイルを保存するためのファイルパス\n",
    "\n",
    "# ローカル（自分のMac）\n",
    "path = '/Users/kotomi/Unv/Lecture/ds-programming Q4/final/ds-programming_final'\n",
    "\n",
    "# DBファイル名\n",
    "db_name = 'test.sqlite'\n",
    "\n",
    "# DBに接続する（指定したDBファイル存在しない場合は，新規に作成される）\n",
    "con = sqlite3.connect(path + db_name)\n",
    "\n",
    "# DBへの接続を閉じる\n",
    "con.close()"
   ]
  },
  {
   "cell_type": "code",
   "execution_count": null,
   "metadata": {},
   "outputs": [],
   "source": []
  }
 ],
 "metadata": {
  "kernelspec": {
   "display_name": "Python 3",
   "language": "python",
   "name": "python3"
  },
  "language_info": {
   "codemirror_mode": {
    "name": "ipython",
    "version": 3
   },
   "file_extension": ".py",
   "mimetype": "text/x-python",
   "name": "python",
   "nbconvert_exporter": "python",
   "pygments_lexer": "ipython3",
   "version": "3.9.6"
  }
 },
 "nbformat": 4,
 "nbformat_minor": 2
}
