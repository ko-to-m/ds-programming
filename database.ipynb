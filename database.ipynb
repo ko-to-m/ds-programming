{
 "cells": [
  {
   "cell_type": "code",
   "execution_count": 1,
   "metadata": {},
   "outputs": [],
   "source": [
    "import sqlite3"
   ]
  },
  {
   "cell_type": "code",
   "execution_count": 4,
   "metadata": {},
   "outputs": [
    {
     "name": "stdout",
     "output_type": "stream",
     "text": [
      "/Users/kotomi/Unv/Lecture/ds-programming Q4/final\n"
     ]
    }
   ],
   "source": [
    "!pwd"
   ]
  },
  {
   "cell_type": "code",
   "execution_count": 12,
   "metadata": {},
   "outputs": [],
   "source": [
    "# DBファイルを保存するためのファイルパス\n",
    "\n",
    "# ローカル（自分のMac）\n",
    "path = '/Users/kotomi/Unv/Lecture/ds-programming Q4/final/ds-programming_final'\n",
    "\n",
    "# DBファイル名\n",
    "db_name = 'test.sqlite'\n",
    "\n",
    "# DBに接続する（指定したDBファイル存在しない場合は，新規に作成される）\n",
    "con = sqlite3.connect(path + db_name)\n",
    "\n",
    "# DBへの接続を閉じる\n",
    "con.close()"
   ]
  },
  {
   "cell_type": "markdown",
   "metadata": {},
   "source": [
    "DBを作成"
   ]
  },
  {
   "cell_type": "code",
   "execution_count": null,
   "metadata": {},
   "outputs": [],
   "source": [
    "# 1．DBに接続する\n",
    "con = sqlite3.connect(path + db_name)\n",
    "# print(type(con))\n",
    "\n",
    "# 2．SQLを実行するためのオブジェクトを取得\n",
    "cur = con.cursor()\n",
    "\n",
    "# 3．実行したいSQLを用意する\n",
    "# テーブルを作成するSQL\n",
    "# CREATE TABLE テーブル名（カラム名 型，...）;\n",
    "sql_create_table_scraping = 'CREATE TABLE scraping(data int, 現地平均気圧 real, 海面平均気圧 real, 合計降水量 real, 最大降水量 real, 最小降水量 real, 平均気温 real, 最高気温 real, 最低気温 real, 平均湿度 int, 最小湿度 int, 平均風速 real, 最大風速 real, 最大風速風向 text, 最大瞬間風速 real, 最大瞬間風速風向 text, 日照時間h real, 降雪量cm int, 最新積雪値cm int, 天気概要昼 text, 天気概要夜 text);'\n",
    "\n",
    "# 4．SQLを実行する\n",
    "cur.execute(sql_create_table_scraping)\n",
    "\n",
    "# 5．必要があればコミットする（データ変更等があった場合）\n",
    "# 今回は必要なし\n",
    "\n",
    "# 6．DBへの接続を閉じる\n",
    "con.close()"
   ]
  },
  {
   "cell_type": "markdown",
   "metadata": {},
   "source": [
    "DBにデータを挿入"
   ]
  },
  {
   "cell_type": "code",
   "execution_count": null,
   "metadata": {},
   "outputs": [],
   "source": [
    "# 1.DBに接続する\n",
    "con = sqlite3.connect(path + db_name)\n",
    "print(type(con))\n",
    "\n",
    "# 2．SQLを実行するためのオブジェクトを取得\n",
    "cur = con.cursor()\n",
    "\n",
    "# 3.SQLを用意\n",
    "# データを挿入するSQL\n",
    "# INSERT INTO テーブル名 VALUES(列に対応したデータをカンマ区切りで);\n",
    "sql_insert_many = \"INSERT INTO scraping VALUES (?, ?, ?, ?, ?, ?, ?, ?, ?, ?, ?, ?, ?, ?, ?, ?, ?, ?, ?, ?, ?);\"\n",
    "\n",
    "# 用意したリスト\n",
    "value_new_list\n",
    "\n",
    "# 4.SQLを実行\n",
    "cur.executemany(sql_insert_many, value_new_list)\n",
    "\n",
    "# 5.コミット処理(データ操作を反映させる)\n",
    "con.commit()\n",
    "\n",
    "# 6.DBへの接続を閉じる\n",
    "con.close()"
   ]
  },
  {
   "cell_type": "markdown",
   "metadata": {},
   "source": [
    "DB内のデータを参照"
   ]
  },
  {
   "cell_type": "code",
   "execution_count": null,
   "metadata": {},
   "outputs": [],
   "source": [
    "# 1．DBに接続する\n",
    "con = sqlite3.connect(path + db_name)\n",
    "# print(type(con))\n",
    "\n",
    "# 2．SQLを実行するためのオブジェクトを取得\n",
    "cur = con.cursor()\n",
    "\n",
    "# 3．SQLを用意\n",
    "# SELECT * FROM テーブル名;\n",
    "sql_select = 'SELECT * FROM scraping;'\n",
    "\n",
    "# 4．SQLを実行\n",
    "cur.execute(sql_select)\n",
    "\n",
    "for r in cur:\n",
    "  print(r)\n",
    "\n",
    "# 6．DBへの接続を閉じる\n",
    "con.close()"
   ]
  }
 ],
 "metadata": {
  "kernelspec": {
   "display_name": "Python 3",
   "language": "python",
   "name": "python3"
  },
  "language_info": {
   "codemirror_mode": {
    "name": "ipython",
    "version": 3
   },
   "file_extension": ".py",
   "mimetype": "text/x-python",
   "name": "python",
   "nbconvert_exporter": "python",
   "pygments_lexer": "ipython3",
   "version": "3.9.6"
  }
 },
 "nbformat": 4,
 "nbformat_minor": 2
}
